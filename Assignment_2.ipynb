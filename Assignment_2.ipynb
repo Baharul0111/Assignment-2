{
 "cells": [
  {
   "cell_type": "code",
   "execution_count": 2,
   "id": "586ab627-622f-4fd9-8348-4aeb87db396e",
   "metadata": {},
   "outputs": [
    {
     "data": {
      "text/plain": [
       "[1, 3, 5, 7, 9, 11, 13, 15, 17, 19, 21, 23, 25]"
      ]
     },
     "execution_count": 2,
     "metadata": {},
     "output_type": "execute_result"
    }
   ],
   "source": [
    "#question 1\n",
    "'''def keyword is used to create a function'''\n",
    "def odd_numbers():\n",
    "    l=[i for i in range(1,26) if i%2==1]\n",
    "    return l\n",
    "odd_numbers()"
   ]
  },
  {
   "cell_type": "code",
   "execution_count": 10,
   "id": "3d1d4cfd-c6f4-4104-8c56-64e57bf455ad",
   "metadata": {},
   "outputs": [
    {
     "name": "stdout",
     "output_type": "stream",
     "text": [
      "(1, 'baharul', [1, 2, 3], 'hello', 12.34)\n",
      "{'list': [1, 2, 3], 'man': 'woman', 'box': 100}\n"
     ]
    }
   ],
   "source": [
    "#question 2\n",
    "'''*args is used to take multiple parameters from the user when the number of parameters/ arguments is not fixed and it returns a tuple\n",
    "**kwargs is used to take key value pairs and returns a dictionary from them and also we can pass any number of arguments in it '''\n",
    "def func1(*args):\n",
    "    return args\n",
    "print(func1(1,'baharul', [1,2,3],'hello', 12.34))\n",
    "\n",
    "def func2(**kwargs):\n",
    "    return kwargs\n",
    "\n",
    "print(func2(list=[1,2,3], man='woman', box=100))\n"
   ]
  },
  {
   "cell_type": "code",
   "execution_count": 11,
   "id": "2df6a1c6-d172-49c9-8a7b-f60b30ecd98f",
   "metadata": {},
   "outputs": [
    {
     "name": "stdout",
     "output_type": "stream",
     "text": [
      "2\n",
      "4\n",
      "6\n",
      "8\n",
      "10\n"
     ]
    }
   ],
   "source": [
    "#question 3\n",
    "'''an iterator is an object that allows us to iterate over collections of data, such as lists, tuples, dictionaries, and sets'''\n",
    "'''iterators object is initialized using the iter() method and it uses the next() method for iteration'''\n",
    "l=[i for i in range(2,21,2)]\n",
    "iterator=iter(l)\n",
    "for i in range(5):\n",
    "    element=next(iterator)\n",
    "    print(element)\n"
   ]
  },
  {
   "cell_type": "code",
   "execution_count": 14,
   "id": "c48798b8-d4d8-4a32-a549-478c7a800f78",
   "metadata": {},
   "outputs": [
    {
     "name": "stdout",
     "output_type": "stream",
     "text": [
      "1\n",
      "2\n",
      "3\n"
     ]
    }
   ],
   "source": [
    "#question 4\n",
    "'''generator functions allow you to declare a function that behaves like an iterator, making it a faster, cleaner and easier way to create an iterator'''\n",
    "'''The Yield keyword in Python is similar to a return statement used for returning values or objects in Python'''\n",
    "def generator_fun():\n",
    "    yield 1\n",
    "    yield 2\n",
    "    yield 3           \n",
    "\n",
    "for i in (generator_fun()):  \n",
    "    print(i)"
   ]
  },
  {
   "cell_type": "code",
   "execution_count": 16,
   "id": "2275d754-d506-48a6-9bf5-33869a5b856b",
   "metadata": {},
   "outputs": [
    {
     "name": "stdout",
     "output_type": "stream",
     "text": [
      "2\n",
      "3\n",
      "5\n",
      "7\n",
      "11\n",
      "13\n",
      "17\n",
      "19\n",
      "23\n",
      "29\n",
      "31\n",
      "37\n",
      "41\n",
      "43\n",
      "47\n",
      "53\n",
      "59\n",
      "61\n",
      "67\n",
      "71\n"
     ]
    }
   ],
   "source": [
    "#question 5\n",
    "def prime_generator():\n",
    "    for i in range(2, 1000):\n",
    "        flag = 0\n",
    "        for j in range(2, (i // 2) + 1):\n",
    "            if i % j == 0:\n",
    "                flag = 1\n",
    "                break\n",
    "        if flag == 0:\n",
    "            yield i\n",
    "\n",
    "iterator = prime_generator()\n",
    "\n",
    "for _ in range(20):\n",
    "    element = next(iterator)\n",
    "    print(element)"
   ]
  },
  {
   "cell_type": "code",
   "execution_count": 18,
   "id": "83e054fc-4225-4017-86f4-94eb76ac987d",
   "metadata": {},
   "outputs": [
    {
     "name": "stdout",
     "output_type": "stream",
     "text": [
      "0\n",
      "1\n",
      "1\n",
      "2\n",
      "3\n",
      "5\n",
      "8\n",
      "13\n",
      "21\n",
      "34\n"
     ]
    }
   ],
   "source": [
    "#question 6\n",
    "a=0\n",
    "b=1\n",
    "count=2\n",
    "print(a)\n",
    "print(b)\n",
    "while count<10:\n",
    "    c=a+b\n",
    "    a=b\n",
    "    b=c\n",
    "    count+=1\n",
    "    print(c)"
   ]
  },
  {
   "cell_type": "code",
   "execution_count": 20,
   "id": "bb66bd20-7ece-470a-afab-bb01389f42c0",
   "metadata": {},
   "outputs": [
    {
     "data": {
      "text/plain": [
       "['p', 'w', 's', 'k', 'i', 'l', 'l', 's']"
      ]
     },
     "execution_count": 20,
     "metadata": {},
     "output_type": "execute_result"
    }
   ],
   "source": [
    "#question 7\n",
    "string=\"pwskills\"\n",
    "l=[i for i in string]\n",
    "l"
   ]
  },
  {
   "cell_type": "code",
   "execution_count": 26,
   "id": "2fb439ba-e289-41d7-b607-ae79c0dc71b9",
   "metadata": {},
   "outputs": [
    {
     "name": "stdin",
     "output_type": "stream",
     "text": [
      "Enter your number:  12521\n"
     ]
    },
    {
     "name": "stdout",
     "output_type": "stream",
     "text": [
      "It is palindrome\n"
     ]
    }
   ],
   "source": [
    "#question 8\n",
    "num=int(input(\"Enter your number: \"))\n",
    "num_reserve=num\n",
    "new_num=0\n",
    "while(num>0):\n",
    "    digit=num%10\n",
    "    new_num=new_num*10+digit\n",
    "    num=num//10\n",
    "if new_num==num_reserve:\n",
    "    print(\"It is palindrome\")\n",
    "else:\n",
    "    print(\"It is not palindrome\")"
   ]
  },
  {
   "cell_type": "code",
   "execution_count": 28,
   "id": "984cb0a2-5360-4d4a-b27e-3f9add52b2bc",
   "metadata": {},
   "outputs": [
    {
     "data": {
      "text/plain": [
       "[1,\n",
       " 3,\n",
       " 5,\n",
       " 7,\n",
       " 9,\n",
       " 11,\n",
       " 13,\n",
       " 15,\n",
       " 17,\n",
       " 19,\n",
       " 21,\n",
       " 23,\n",
       " 25,\n",
       " 27,\n",
       " 29,\n",
       " 31,\n",
       " 33,\n",
       " 35,\n",
       " 37,\n",
       " 39,\n",
       " 41,\n",
       " 43,\n",
       " 45,\n",
       " 47,\n",
       " 49,\n",
       " 51,\n",
       " 53,\n",
       " 55,\n",
       " 57,\n",
       " 59,\n",
       " 61,\n",
       " 63,\n",
       " 65,\n",
       " 67,\n",
       " 69,\n",
       " 71,\n",
       " 73,\n",
       " 75,\n",
       " 77,\n",
       " 79,\n",
       " 81,\n",
       " 83,\n",
       " 85,\n",
       " 87,\n",
       " 89,\n",
       " 91,\n",
       " 93,\n",
       " 95,\n",
       " 97,\n",
       " 99]"
      ]
     },
     "execution_count": 28,
     "metadata": {},
     "output_type": "execute_result"
    }
   ],
   "source": [
    "#question 9\n",
    "l=[i for i in range(1, 101) if i%2==1]\n",
    "l"
   ]
  },
  {
   "cell_type": "code",
   "execution_count": null,
   "id": "ade3e5dc-1f23-4a12-aba1-8cc6b7cdfc4e",
   "metadata": {},
   "outputs": [],
   "source": []
  }
 ],
 "metadata": {
  "kernelspec": {
   "display_name": "Python 3 (ipykernel)",
   "language": "python",
   "name": "python3"
  },
  "language_info": {
   "codemirror_mode": {
    "name": "ipython",
    "version": 3
   },
   "file_extension": ".py",
   "mimetype": "text/x-python",
   "name": "python",
   "nbconvert_exporter": "python",
   "pygments_lexer": "ipython3",
   "version": "3.10.8"
  },
  "toc-autonumbering": true
 },
 "nbformat": 4,
 "nbformat_minor": 5
}
